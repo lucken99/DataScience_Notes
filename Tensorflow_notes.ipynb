{
  "nbformat": 4,
  "nbformat_minor": 0,
  "metadata": {
    "colab": {
      "provenance": [],
      "collapsed_sections": [
        "BhMkrrWBWEq8"
      ],
      "authorship_tag": "ABX9TyMBdfxjEMi0BK4iL6Bt23yK",
      "include_colab_link": true
    },
    "kernelspec": {
      "name": "python3",
      "display_name": "Python 3"
    },
    "language_info": {
      "name": "python"
    }
  },
  "cells": [
    {
      "cell_type": "markdown",
      "metadata": {
        "id": "view-in-github",
        "colab_type": "text"
      },
      "source": [
        "<a href=\"https://colab.research.google.com/github/lucken99/DataScience_Notes/blob/main/Tensorflow_notes.ipynb\" target=\"_parent\"><img src=\"https://colab.research.google.com/assets/colab-badge.svg\" alt=\"Open In Colab\"/></a>"
      ]
    },
    {
      "cell_type": "code",
      "execution_count": null,
      "metadata": {
        "id": "cFuECrZqRBYW"
      },
      "outputs": [],
      "source": [
        "# !pip list"
      ]
    },
    {
      "cell_type": "code",
      "source": [
        "import numpy as np\n",
        "from tensorflow import keras\n",
        "import tensorflow as tf\n",
        "import matplotlib.pyplot as plt\n",
        "\n",
        "print(tf.__version__)"
      ],
      "metadata": {
        "colab": {
          "base_uri": "https://localhost:8080/"
        },
        "id": "bZxW2Nt9TNq_",
        "outputId": "03c3dc61-bdd6-42d8-d497-ea50cb7a29d6"
      },
      "execution_count": 2,
      "outputs": [
        {
          "output_type": "stream",
          "name": "stdout",
          "text": [
            "2.13.0\n"
          ]
        }
      ]
    },
    {
      "cell_type": "markdown",
      "source": [
        "# The hello world of neural network\n",
        "### [Playground](https://playground.tensorflow.org/#activation=tanh&batchSize=10&dataset=circle&regDataset=reg-plane&learningRate=0.03&regularizationRate=0&noise=0&networkShape=4,2&seed=0.25033&showTestData=false&discretize=false&percTrainData=50&x=true&y=true&xTimesY=false&xSquared=false&ySquared=false&cosX=false&sinX=false&cosY=false&sinY=false&collectStats=false&problem=classification&initZero=false&hideText=false)"
      ],
      "metadata": {
        "id": "BhMkrrWBWEq8"
      }
    },
    {
      "cell_type": "code",
      "source": [
        "\n",
        "model = keras.Sequential([\n",
        "    keras.layers.Dense(units=1, input_shape=[1])\n",
        "])\n",
        "\n",
        "model.compile(optimizer='sgd', loss='mean_squared_error')"
      ],
      "metadata": {
        "id": "E84__oRySGyn"
      },
      "execution_count": 3,
      "outputs": []
    },
    {
      "cell_type": "code",
      "source": [
        "xs = np.array([-1.0, 0.0, 1.0, 2.0, 3.0, 4.0], dtype=float)\n",
        "ys = np.array([-3.0, -1.0, 1.0, 3.0, 5.0, 7.0], dtype=float)"
      ],
      "metadata": {
        "id": "dCcrHihHTdoE"
      },
      "execution_count": 4,
      "outputs": []
    },
    {
      "cell_type": "code",
      "source": [
        "model.fit(xs, ys, epochs=500)"
      ],
      "metadata": {
        "id": "om7y3cCzUUJw"
      },
      "execution_count": null,
      "outputs": []
    },
    {
      "cell_type": "code",
      "source": [
        "print(model.predict([10.0]))"
      ],
      "metadata": {
        "colab": {
          "base_uri": "https://localhost:8080/"
        },
        "id": "PRz-Ut2UUx16",
        "outputId": "5cdbe0b4-270a-4b97-8208-ae68e23840f9"
      },
      "execution_count": 6,
      "outputs": [
        {
          "output_type": "stream",
          "name": "stdout",
          "text": [
            "1/1 [==============================] - 0s 164ms/step\n",
            "[[18.97527]]\n"
          ]
        }
      ]
    },
    {
      "cell_type": "markdown",
      "source": [
        "#"
      ],
      "metadata": {
        "id": "W0yvRcflU1sI"
      }
    },
    {
      "cell_type": "markdown",
      "source": [
        "# [TF1 Course 1: Lecture Notes](https://community.deeplearning.ai/t/tf1-course-1-lecture-notes/124222)"
      ],
      "metadata": {
        "id": "_VKSQPKAXb2G"
      }
    },
    {
      "cell_type": "markdown",
      "source": [
        "# Intro to Computer Vision\n"
      ],
      "metadata": {
        "id": "_kBSKsY4WHTg"
      }
    },
    {
      "cell_type": "markdown",
      "source": [
        "[Fashion MNIST](https://github.com/zalandoresearch/fashion-mnist)"
      ],
      "metadata": {
        "id": "HjHqlWWmfzG_"
      }
    },
    {
      "cell_type": "code",
      "source": [
        "mnist = tf.keras.datasets.fashion_mnist"
      ],
      "metadata": {
        "id": "5O9rRicMf3Wu"
      },
      "execution_count": 7,
      "outputs": []
    },
    {
      "cell_type": "code",
      "source": [
        "from keras.datasets import fashion_mnist\n",
        "(train_images, train_labels), (test_images, test_labels) = mnist.load_data()"
      ],
      "metadata": {
        "id": "gjuSfdD_gklr"
      },
      "execution_count": 41,
      "outputs": []
    },
    {
      "cell_type": "code",
      "source": [
        "index = 29\n",
        "\n",
        "# set number of characters per row when printing\n",
        "np.set_printoptions(linewidth=320)\n",
        "\n",
        "print(f'Label: {train_labels[index]}')\n",
        "print(f'\\n Image pixel array: \\n {train_images[index]}')\n",
        "\n",
        "# Visualize the image\n",
        "plt.imshow(train_images[index], cmap='Greys')\n"
      ],
      "metadata": {
        "colab": {
          "base_uri": "https://localhost:8080/",
          "height": 1000
        },
        "id": "eFveP8uapOV4",
        "outputId": "ee40c6bf-4b89-4a2d-9e18-892253af1f06"
      },
      "execution_count": 42,
      "outputs": [
        {
          "output_type": "stream",
          "name": "stdout",
          "text": [
            "Label: 4\n",
            "\n",
            " Image pixel array: \n",
            " [[  0   0   0   0   0   0   0   0   0   0   0   0  59  48  43  57   8   0   0   0   0   0   0   0   0   0   0   0]\n",
            " [  0   0   0   0   0   0   0   0   0   0   0 214 244 219 217 227 219   0   0   2   1   0   0   0   0   0   0   0]\n",
            " [  0   0   0   0   1   0   0   6   0   0 118 227 220 224 219 224 223 202   0   0   0   5   1   0   0   0   0   0]\n",
            " [  0   0   0   0   0   2   0   0   0 158 207 203 224 211 197 224 195 219 196  65   0   0   0   1   0   0   0   0]\n",
            " [  0   0   0   0   1   0   0  90 182 192 179 210 218 236 251 226 202 213 203 208 161  65   0   0   0   0   0   0]\n",
            " [  0   0   0   0   0   0 153 195 178 165 171 208 199 220 232 214 206 190 182 179 190 207 135   0   0   0   0   0]\n",
            " [  0   0   0   0   0 147 205  82 112 190 161 166 180 216 223 206 213 203 180 177 179 157 178  81   0   0   0   0]\n",
            " [  0   0   0   0   1 185 177  49 126 195 164 175 173 213 209 195 162 187 181 180 184 165 131 210   0   0   0   0]\n",
            " [  0   0   0   0  57 205 168 177 198 195 188 187 200 209 205 193 180 188 198 190 186 196 155 190   6   0   0   0]\n",
            " [  0   0   0   0  89 214 168 219 213 205 190 211 195 188 215 183 187 209 199 203 202 186 185 214  52   0   0   0]\n",
            " [  0   0   0   0 112 219 187 181 143 185 194 187 201 202 164 211 195 207 220 195 149 213 208 208  54   0   0   0]\n",
            " [  0   0   0   0 145 228 206 183 171 145 163 201 200 211 205 190 185 177 195 179 195 197 218 215  78   0   0   0]\n",
            " [  0   0   0   0 149 232 203 200 198 188 182 184 193 199 211 185 183 180 175 193 208 196 219 243 102   0   0   0]\n",
            " [  0   0   0   0 176 234 206 197 197 174 172 183 199 202 196 194 186 182 170 187 185 200 223 237  97   0   0   0]\n",
            " [  0   0   0   0  99 238 225 164 162 180 168 193 200 204 194 202 166 171 180 178 178 203 227 235 123   0   0   0]\n",
            " [  0   0   0   0  96 236 240 202 161 163 175 188 195 203 201 190 187 184 165 181 176 217 236 235 136   0   0   0]\n",
            " [  0   0   0   0 180 227 240 210 179 172 181 192 199 207 205 200 189 186 171 176 162 215 247 237 153   0   0   0]\n",
            " [  0   0   0   0 187 198 249 206 161 180 188 196 203 205 202 193 200 184 178 184 166 232 250 220 160   0   0   0]\n",
            " [  0   0   0   0 184 195 245 231 166 182 195 182 184 203 213 194 196 194 177 183 165 234 248 207 167   0   0   0]\n",
            " [  0   0   0   0 195 195 238 241 163 186 198 181 195 192 204 202 184 188 182 182 177 239 244 197 176   0   0   0]\n",
            " [  0   0   0   0 196 197 232 255 182 182 197 187 200 205 196 183 181 194 188 132 198 245 240 188 185   0   0   0]\n",
            " [  0   0   0   0 196 194 242 234 166 199 194 185 198 209 223 199 187 197 167 155 179 235 239 182 184   0   0   0]\n",
            " [  0   0   0   0 194 192 249 205 153 211 199 178 208 205 219 203 193 185 190 195 143 194 249 185 186   0   0   0]\n",
            " [  0   0   0   0 196 192 238 166 143 202 189 184 218 198 204 199 194 166 201 217 143 168 251 179 192   0   0   0]\n",
            " [  0   0   0   0 209 204 243 134 150 198 184 199 215 203 198 188 199 187 180 190 156 144 164 170 199   0   0   0]\n",
            " [  0   0   0   0 186 198 232  96 118 217 199 209 223 224 230 222 221 214 208 228 168  92 245 202 167   0   0   0]\n",
            " [  0   0   0   0 224 199 236 133   0 149 141 137 134 136 132 130 133 120 108  98   0 163 252 202 204   0   0   0]\n",
            " [  0   0   0   0  86 163 156  32   0   0   0   0   0   0   0   0   0   0   0   0   0  70 158 153 101   0   0   0]]\n"
          ]
        },
        {
          "output_type": "execute_result",
          "data": {
            "text/plain": [
              "<matplotlib.image.AxesImage at 0x7eafd281aaa0>"
            ]
          },
          "metadata": {},
          "execution_count": 42
        },
        {
          "output_type": "display_data",
          "data": {
            "text/plain": [
              "<Figure size 640x480 with 1 Axes>"
            ],
            "image/png": "[encoded data removed]"
          },
          "metadata": {}
        }
      ]
    },
    {
      "cell_type": "code",
      "source": [
        "# Normalize the pixel values of the train and text images\n",
        "\n",
        "train_images = train_images/255.0\n",
        "test_images = test_images/255.0"
      ],
      "metadata": {
        "id": "svCyUAQP8FU6"
      },
      "execution_count": 53,
      "outputs": []
    },
    {
      "cell_type": "code",
      "source": [
        "# Build the classification model\n",
        "\n",
        "model = keras.Sequential([\n",
        "    keras.layers.Flatten(input_shape=[28, 28, 1]),\n",
        "    keras.layers.Dense(128, activation=tf.nn.relu),\n",
        "    keras.layers.Dense(10, activation=tf.nn.softmax)\n",
        "])"
      ],
      "metadata": {
        "id": "7jpfEfm0hcf0"
      },
      "execution_count": 54,
      "outputs": []
    },
    {
      "cell_type": "code",
      "source": [
        "model.compile(optimizer=tf.optimizers.Adam(),\n",
        "              loss='sparse_categorical_crossentropy',\n",
        "              metrics=['accuracy'])"
      ],
      "metadata": {
        "id": "1PD2WECYjmxm"
      },
      "execution_count": 55,
      "outputs": []
    },
    {
      "cell_type": "code",
      "source": [
        "model.fit(train_images, train_labels, epochs=10)"
      ],
      "metadata": {
        "colab": {
          "base_uri": "https://localhost:8080/"
        },
        "id": "cWXj-B8yo6nG",
        "outputId": "caba1678-3b8a-44b0-c218-7776b5e74c99"
      },
      "execution_count": 56,
      "outputs": [
        {
          "output_type": "stream",
          "name": "stdout",
          "text": [
            "Epoch 1/10\n",
            "1875/1875 [==============================] - 4s 2ms/step - loss: 1.0818 - accuracy: 0.6719\n",
            "Epoch 2/10\n",
            "1875/1875 [==============================] - 3s 2ms/step - loss: 0.6351 - accuracy: 0.7713\n",
            "Epoch 3/10\n",
            "1875/1875 [==============================] - 4s 2ms/step - loss: 0.5613 - accuracy: 0.7989\n",
            "Epoch 4/10\n",
            "1875/1875 [==============================] - 4s 2ms/step - loss: 0.5187 - accuracy: 0.8157\n",
            "Epoch 5/10\n",
            "1875/1875 [==============================] - 3s 2ms/step - loss: 0.4911 - accuracy: 0.8267\n",
            "Epoch 6/10\n",
            "1875/1875 [==============================] - 3s 2ms/step - loss: 0.4708 - accuracy: 0.8352\n",
            "Epoch 7/10\n",
            "1875/1875 [==============================] - 4s 2ms/step - loss: 0.4558 - accuracy: 0.8396\n",
            "Epoch 8/10\n",
            "1875/1875 [==============================] - 3s 2ms/step - loss: 0.4436 - accuracy: 0.8443\n",
            "Epoch 9/10\n",
            "1875/1875 [==============================] - 3s 2ms/step - loss: 0.4344 - accuracy: 0.8469\n",
            "Epoch 10/10\n",
            "1875/1875 [==============================] - 4s 2ms/step - loss: 0.4255 - accuracy: 0.8515\n"
          ]
        },
        {
          "output_type": "execute_result",
          "data": {
            "text/plain": [
              "<keras.src.callbacks.History at 0x7eaff1c5dbd0>"
            ]
          },
          "metadata": {},
          "execution_count": 56
        }
      ]
    },
    {
      "cell_type": "code",
      "source": [
        "model.evaluate(test_images, test_labels)"
      ],
      "metadata": {
        "colab": {
          "base_uri": "https://localhost:8080/"
        },
        "id": "2t6lwlg4pAKv",
        "outputId": "367901f7-003b-4a1f-c205-5caf1d2fe136"
      },
      "execution_count": 57,
      "outputs": [
        {
          "output_type": "stream",
          "name": "stdout",
          "text": [
            "313/313 [==============================] - 0s 1ms/step - loss: 0.4588 - accuracy: 0.8378\n"
          ]
        },
        {
          "output_type": "execute_result",
          "data": {
            "text/plain": [
              "[0.45875170826911926, 0.8378000259399414]"
            ]
          },
          "metadata": {},
          "execution_count": 57
        }
      ]
    },
    {
      "cell_type": "markdown",
      "source": [
        "### Call backs"
      ],
      "metadata": {
        "id": "ZWEaj86LQuye"
      }
    },
    {
      "cell_type": "markdown",
      "source": [
        "Earlier when you trained for extra epochs you had an issue where your loss might change. It might have taken a bit of time for you to wait for the training to do that, and you might have thought 'wouldn't it be nice if I could stop the training when I reach a desired value?' -- i.e. 60% accuracy might be enough for you, and if you reach that after 3 epochs, why sit around waiting for it to finish a lot more epochs....So how would you fix that? Like any other program...you have callbacks! Let's see them in action..."
      ],
      "metadata": {
        "id": "xZxvHrrp-k6G"
      }
    },
    {
      "cell_type": "code",
      "source": [
        "class myCallback(tf.keras.callbacks.Callback):\n",
        "    def on_epoch_end(self, epoch, logs={}):\n",
        "        if (logs.get('accuracy') >= 0.90): # Experiment with changing this value\n",
        "            print(\"\\nReached 60% accuracy so cancelling training!\")\n",
        "            self.model.stop_training = True\n",
        "        elif logs.get('loss') < 0.4:\n",
        "            print(\"\\n Reached 40% accuracy so cancelling training!\")\n",
        "            self.model.stop_training = True\n",
        "callbacks = myCallback()\n"
      ],
      "metadata": {
        "id": "9cdwo015HtZg"
      },
      "execution_count": 58,
      "outputs": []
    },
    {
      "cell_type": "code",
      "source": [
        "model.compile(optimizer='adam', loss='sparse_categorical_crossentropy', metrics=['accuracy'])\n",
        "model.fit(train_images, train_labels, epochs=5, callbacks=[callbacks])"
      ],
      "metadata": {
        "colab": {
          "base_uri": "https://localhost:8080/"
        },
        "id": "CpMfjQXsIwjj",
        "outputId": "dfa79656-9ed6-4a69-a90e-e7e8c9813abc"
      },
      "execution_count": 35,
      "outputs": [
        {
          "output_type": "stream",
          "name": "stdout",
          "text": [
            "Epoch 1/5\n",
            "1875/1875 [==============================] - 4s 2ms/step - loss: 0.4702 - accuracy: 0.8473\n",
            "Epoch 2/5\n",
            "1875/1875 [==============================] - 4s 2ms/step - loss: 0.4799 - accuracy: 0.8456\n",
            "Epoch 3/5\n",
            "1875/1875 [==============================] - 4s 2ms/step - loss: 0.4510 - accuracy: 0.8496\n",
            "Epoch 4/5\n",
            "1875/1875 [==============================] - 4s 2ms/step - loss: 0.4626 - accuracy: 0.8475\n",
            "Epoch 5/5\n",
            "1875/1875 [==============================] - 4s 2ms/step - loss: 0.4526 - accuracy: 0.8498\n"
          ]
        },
        {
          "output_type": "execute_result",
          "data": {
            "text/plain": [
              "<keras.src.callbacks.History at 0x7eafd80bd570>"
            ]
          },
          "metadata": {},
          "execution_count": 35
        }
      ]
    },
    {
      "cell_type": "markdown",
      "source": [
        "# Enhancing Vision with Convolutional Neural Network"
      ],
      "metadata": {
        "id": "25kC8xdyI9nD"
      }
    },
    {
      "cell_type": "code",
      "source": [
        "model = tf.keras.models.Sequential([\n",
        "    tf.keras.layers.Conv2D(64, (3, 3), activation=tf.nn.relu, input_shape=[28, 28, 1]),\n",
        "    tf.keras.layers.MaxPool2D((2, 2)),\n",
        "    tf.keras.layers.Conv2D(64, (3, 3), activation=tf.nn.relu),\n",
        "    tf.keras.layers.MaxPool2D((2, 2)),\n",
        "    tf.keras.layers.Flatten(),\n",
        "    tf.keras.layers.Dense(units=128, activation=tf.nn.relu),\n",
        "    tf.keras.layers.Dense(units=10, activation=tf.nn.softmax)\n",
        "])\n"
      ],
      "metadata": {
        "id": "pRVpXPFITGyS"
      },
      "execution_count": 70,
      "outputs": []
    },
    {
      "cell_type": "code",
      "source": [
        "model.summary()"
      ],
      "metadata": {
        "colab": {
          "base_uri": "https://localhost:8080/"
        },
        "id": "bx3xGa0kW6LK",
        "outputId": "70667549-53d0-4325-d35c-68c649b07591"
      },
      "execution_count": 71,
      "outputs": [
        {
          "output_type": "stream",
          "name": "stdout",
          "text": [
            "Model: \"sequential_11\"\n",
            "_________________________________________________________________\n",
            " Layer (type)                Output Shape              Param #   \n",
            "=================================================================\n",
            " conv2d_12 (Conv2D)          (None, 26, 26, 64)        640       \n",
            "                                                                 \n",
            " max_pooling2d_12 (MaxPooli  (None, 13, 13, 64)        0         \n",
            " ng2D)                                                           \n",
            "                                                                 \n",
            " conv2d_13 (Conv2D)          (None, 11, 11, 64)        36928     \n",
            "                                                                 \n",
            " max_pooling2d_13 (MaxPooli  (None, 5, 5, 64)          0         \n",
            " ng2D)                                                           \n",
            "                                                                 \n",
            " flatten_10 (Flatten)        (None, 1600)              0         \n",
            "                                                                 \n",
            " dense_21 (Dense)            (None, 128)               204928    \n",
            "                                                                 \n",
            " dense_22 (Dense)            (None, 10)                1290      \n",
            "                                                                 \n",
            "=================================================================\n",
            "Total params: 243786 (952.29 KB)\n",
            "Trainable params: 243786 (952.29 KB)\n",
            "Non-trainable params: 0 (0.00 Byte)\n",
            "_________________________________________________________________\n"
          ]
        }
      ]
    },
    {
      "cell_type": "code",
      "source": [
        "# use same settings\n",
        "model.compile(optimizer='adam', loss='sparse_categorical_crossentropy', metrics=['accuracy'])\n",
        "model.fit(train_images, train_labels, epochs=5)"
      ],
      "metadata": {
        "colab": {
          "base_uri": "https://localhost:8080/"
        },
        "id": "9q6V0HAiW9MR",
        "outputId": "c806acd1-3260-4c11-9ca1-3a110135f8e8"
      },
      "execution_count": 72,
      "outputs": [
        {
          "output_type": "stream",
          "name": "stdout",
          "text": [
            "Epoch 1/5\n",
            "1875/1875 [==============================] - 45s 23ms/step - loss: 0.9455 - accuracy: 0.6524\n",
            "Epoch 2/5\n",
            "1875/1875 [==============================] - 45s 24ms/step - loss: 0.6339 - accuracy: 0.7608\n",
            "Epoch 3/5\n",
            "1875/1875 [==============================] - 45s 24ms/step - loss: 0.5647 - accuracy: 0.7871\n",
            "Epoch 4/5\n",
            "1875/1875 [==============================] - 45s 24ms/step - loss: 0.5229 - accuracy: 0.8054\n",
            "Epoch 5/5\n",
            "1875/1875 [==============================] - 46s 25ms/step - loss: 0.4933 - accuracy: 0.8170\n"
          ]
        },
        {
          "output_type": "execute_result",
          "data": {
            "text/plain": [
              "<keras.src.callbacks.History at 0x7eaff71c8580>"
            ]
          },
          "metadata": {},
          "execution_count": 72
        }
      ]
    },
    {
      "cell_type": "code",
      "source": [
        "model.evaluate(test_images, test_labels)"
      ],
      "metadata": {
        "colab": {
          "base_uri": "https://localhost:8080/"
        },
        "id": "nFS4NPX6Zryw",
        "outputId": "efe564ff-e4a4-4777-e345-5b6e4e4407b1"
      },
      "execution_count": 73,
      "outputs": [
        {
          "output_type": "stream",
          "name": "stdout",
          "text": [
            "313/313 [==============================] - 2s 7ms/step - loss: 0.5023 - accuracy: 0.8194\n"
          ]
        },
        {
          "output_type": "execute_result",
          "data": {
            "text/plain": [
              "[0.5022757649421692, 0.8194000124931335]"
            ]
          },
          "metadata": {},
          "execution_count": 73
        }
      ]
    },
    {
      "cell_type": "markdown",
      "source": [
        "### Visualizing the convolutions and pooling\n",
        "[coursera](https://github.com/https-deeplearning-ai/tensorflow-1-public/blob/main/C1/W3/ungraded_labs/C1_W3_Lab_1_improving_accuracy_using_convolutions.ipynb)"
      ],
      "metadata": {
        "id": "3A_tyk6sbiqa"
      }
    },
    {
      "cell_type": "code",
      "source": [
        "print(test_labels[:100])"
      ],
      "metadata": {
        "colab": {
          "base_uri": "https://localhost:8080/"
        },
        "id": "8aQydtdxb9Qs",
        "outputId": "1373d00a-1839-4a19-c042-e06ac9e19a5c"
      },
      "execution_count": 74,
      "outputs": [
        {
          "output_type": "stream",
          "name": "stdout",
          "text": [
            "[9 2 1 1 6 1 4 6 5 7 4 5 7 3 4 1 2 4 8 0 2 5 7 9 1 4 6 0 9 3 8 8 3 3 8 0 7 5 7 9 6 1 3 7 6 7 2 1 2 2 4 4 5 8 2 2 8 4 8 0 7 7 8 5 1 1 2 3 9 8 7 0 2 6 2 3 1 2 8 4 1 8 5 9 5 0 3 2 0 6 5 3 6 7 1 8 0 1 4 2]\n"
          ]
        }
      ]
    },
    {
      "cell_type": "code",
      "source": [
        "import matplotlib.pyplot as plt\n",
        "from tensorflow.keras import models\n",
        "\n",
        "f, axarr = plt.subplots(3, 4)\n",
        "\n",
        "FIRST_IMAGE = 0\n",
        "SECOND_IMAGE = 23\n",
        "THIRD_IMAGE = 28\n",
        "CONVOLUTION_NUMBER = 1\n",
        "\n",
        "layer_outputs = [layer.output for layer in model.layers]\n",
        "activation_model = tf.keras.models.Model(inputs = model.input, outputs = layer_outputs)\n",
        "\n",
        "for x in range(0, 4):\n",
        "    f1 = activation_model.predict(test_images[FIRST_IMAGE].reshape(1, 28, 28, 1))[x]\n",
        "    axarr[0, x].imshow(f1[0, :, :, CONVOLUTION_NUMBER], cmap='inferno')\n",
        "    axarr[0, x].grid(False)\n",
        "\n",
        "    f2 = activation_model.predict(test_images[SECOND_IMAGE].reshape(1, 28, 28, 1))[x]\n",
        "    axarr[1,x].imshow(f2[0, : , :, CONVOLUTION_NUMBER], cmap='inferno')\n",
        "    axarr[1,x].grid(False)\n",
        "\n",
        "    f3 = activation_model.predict(test_images[THIRD_IMAGE].reshape(1, 28, 28, 1))[x]\n",
        "    axarr[2,x].imshow(f3[0, : , :, CONVOLUTION_NUMBER], cmap='inferno')\n",
        "    axarr[2,x].grid(False)"
      ],
      "metadata": {
        "colab": {
          "base_uri": "https://localhost:8080/",
          "height": 640
        },
        "id": "8fR50yhucHon",
        "outputId": "03eb609f-5e9c-4df2-a935-be8118a68bf2"
      },
      "execution_count": 75,
      "outputs": [
        {
          "output_type": "stream",
          "name": "stdout",
          "text": [
            "1/1 [==============================] - 0s 54ms/step\n",
            "1/1 [==============================] - 0s 14ms/step\n",
            "1/1 [==============================] - 0s 14ms/step\n",
            "1/1 [==============================] - 0s 15ms/step\n",
            "1/1 [==============================] - 0s 17ms/step\n",
            "1/1 [==============================] - 0s 18ms/step\n",
            "1/1 [==============================] - 0s 18ms/step\n",
            "1/1 [==============================] - 0s 15ms/step\n",
            "1/1 [==============================] - 0s 14ms/step\n",
            "1/1 [==============================] - 0s 14ms/step\n",
            "1/1 [==============================] - 0s 15ms/step\n",
            "1/1 [==============================] - 0s 18ms/step\n"
          ]
        },
        {
          "output_type": "display_data",
          "data": {
            "text/plain": [
              "<Figure size 640x480 with 12 Axes>"
            ],
            "image/png": "[encoded data removed]"
          },
          "metadata": {}
        }
      ]
    },
    {
      "cell_type": "code",
      "source": [],
      "metadata": {
        "id": "XUz_-ojxergY"
      },
      "execution_count": null,
      "outputs": []
    }
  ]
}