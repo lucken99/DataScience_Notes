{
  "nbformat": 4,
  "nbformat_minor": 0,
  "metadata": {
    "colab": {
      "provenance": [],
      "authorship_tag": "ABX9TyOAEZGzTGbKZUELFFB8woFg",
      "include_colab_link": true
    },
    "kernelspec": {
      "name": "python3",
      "display_name": "Python 3"
    },
    "language_info": {
      "name": "python"
    }
  },
  "cells": [
    {
      "cell_type": "markdown",
      "metadata": {
        "id": "view-in-github",
        "colab_type": "text"
      },
      "source": [
        "<a href=\"https://colab.research.google.com/github/lucken99/DataScience_Notes/blob/main/pytorch_quickstart.ipynb\" target=\"_parent\"><img src=\"https://colab.research.google.com/assets/colab-badge.svg\" alt=\"Open In Colab\"/></a>"
      ]
    },
    {
      "cell_type": "markdown",
      "source": [
        "[QUICkSTART](https://pytorch.org/tutorials/beginner/basics/quickstart_tutorial.html)"
      ],
      "metadata": {
        "id": "bLb_-QsXoqk5"
      }
    },
    {
      "cell_type": "markdown",
      "source": [
        "# Working with data\n",
        "Pytorch has two primitives to work with data:\n",
        "`torch.utils.data.DataLoader` and\n",
        "`torch.utils.data.Dataset`\n",
        "\n",
        "`Dataset` stores the samples and their corresponding labels, and\n",
        "`DataLoader` wraps an iterable around the `Dataset`."
      ],
      "metadata": {
        "id": "EneEKAqbo4f2"
      }
    },
    {
      "cell_type": "code",
      "source": [
        "import torch\n",
        "from torch import nn\n",
        "from torch.utils.data import Dataset\n",
        "from torch.utils.data import DataLoader\n"
      ],
      "metadata": {
        "id": "vo6yAV-bpbjt"
      },
      "execution_count": 1,
      "outputs": []
    },
    {
      "cell_type": "markdown",
      "source": [
        "PyTorch offers domain-specific libraries such as\n",
        "\n",
        "`torchtext` <br>\n",
        "`torchvision` <br>\n",
        "`torchaudio` <br>\n",
        "\n",
        "all of which include datasets"
      ],
      "metadata": {
        "id": "S3KU6Ss7qDhO"
      }
    },
    {
      "cell_type": "code",
      "source": [
        "from torchvision import datasets\n",
        "from torchvision.transforms import ToTensor"
      ],
      "metadata": {
        "id": "lGiJ2pbOqNVf"
      },
      "execution_count": 2,
      "outputs": []
    },
    {
      "cell_type": "markdown",
      "source": [
        "The `torchvision.datasets` module contains `Dataset` objects for many real-world vision data like </br>\n",
        "**CIFAR**,\n",
        "**COCO**,\n",
        "**FashionMNIST**, [(full list here)](https://pytorch.org/vision/stable/datasets.html)\n",
        "\n",
        "</br>\n",
        "\n",
        "Every TorchVision `Dataset` includes two arguments: </br>\n",
        "`transform` and `target_transform` to modify the samples and labels respectively."
      ],
      "metadata": {
        "id": "Kx5iWVs2rKSY"
      }
    },
    {
      "cell_type": "code",
      "source": [
        "## !rm -r /content/data\n",
        "\n",
        "# Download training data from open datasets.\n",
        "training_data = datasets.FashionMNIST(\n",
        "    root=\"data\",\n",
        "    train=True,\n",
        "    download=True,\n",
        "    transform=ToTensor(),\n",
        ")\n",
        "\n",
        "# Download test data from open datsets.\n",
        "test_data = datasets.FashionMNIST(\n",
        "    root=\"data\",\n",
        "    train=False,\n",
        "    download=True,\n",
        "    transform=ToTensor(),\n",
        ")"
      ],
      "metadata": {
        "colab": {
          "base_uri": "https://localhost:8080/"
        },
        "id": "BWWwc1G6swZm",
        "outputId": "b7392f15-370d-4486-f434-b69df339ea7a"
      },
      "execution_count": 3,
      "outputs": [
        {
          "output_type": "stream",
          "name": "stdout",
          "text": [
            "Downloading http://fashion-mnist.s3-website.eu-central-1.amazonaws.com/train-images-idx3-ubyte.gz\n",
            "Downloading http://fashion-mnist.s3-website.eu-central-1.amazonaws.com/train-images-idx3-ubyte.gz to data/FashionMNIST/raw/train-images-idx3-ubyte.gz\n"
          ]
        },
        {
          "output_type": "stream",
          "name": "stderr",
          "text": [
            "100%|██████████| 26421880/26421880 [00:01<00:00, 19123751.99it/s]\n"
          ]
        },
        {
          "output_type": "stream",
          "name": "stdout",
          "text": [
            "Extracting data/FashionMNIST/raw/train-images-idx3-ubyte.gz to data/FashionMNIST/raw\n",
            "\n",
            "Downloading http://fashion-mnist.s3-website.eu-central-1.amazonaws.com/train-labels-idx1-ubyte.gz\n",
            "Downloading http://fashion-mnist.s3-website.eu-central-1.amazonaws.com/train-labels-idx1-ubyte.gz to data/FashionMNIST/raw/train-labels-idx1-ubyte.gz\n"
          ]
        },
        {
          "output_type": "stream",
          "name": "stderr",
          "text": [
            "100%|██████████| 29515/29515 [00:00<00:00, 289608.48it/s]\n"
          ]
        },
        {
          "output_type": "stream",
          "name": "stdout",
          "text": [
            "Extracting data/FashionMNIST/raw/train-labels-idx1-ubyte.gz to data/FashionMNIST/raw\n",
            "\n",
            "Downloading http://fashion-mnist.s3-website.eu-central-1.amazonaws.com/t10k-images-idx3-ubyte.gz\n",
            "Downloading http://fashion-mnist.s3-website.eu-central-1.amazonaws.com/t10k-images-idx3-ubyte.gz to data/FashionMNIST/raw/t10k-images-idx3-ubyte.gz\n"
          ]
        },
        {
          "output_type": "stream",
          "name": "stderr",
          "text": [
            "100%|██████████| 4422102/4422102 [00:00<00:00, 5450166.10it/s]\n"
          ]
        },
        {
          "output_type": "stream",
          "name": "stdout",
          "text": [
            "Extracting data/FashionMNIST/raw/t10k-images-idx3-ubyte.gz to data/FashionMNIST/raw\n",
            "\n",
            "Downloading http://fashion-mnist.s3-website.eu-central-1.amazonaws.com/t10k-labels-idx1-ubyte.gz\n",
            "Downloading http://fashion-mnist.s3-website.eu-central-1.amazonaws.com/t10k-labels-idx1-ubyte.gz to data/FashionMNIST/raw/t10k-labels-idx1-ubyte.gz\n"
          ]
        },
        {
          "output_type": "stream",
          "name": "stderr",
          "text": [
            "100%|██████████| 5148/5148 [00:00<00:00, 21876673.75it/s]"
          ]
        },
        {
          "output_type": "stream",
          "name": "stdout",
          "text": [
            "Extracting data/FashionMNIST/raw/t10k-labels-idx1-ubyte.gz to data/FashionMNIST/raw\n",
            "\n"
          ]
        },
        {
          "output_type": "stream",
          "name": "stderr",
          "text": [
            "\n"
          ]
        }
      ]
    },
    {
      "cell_type": "markdown",
      "source": [
        "We pass the `Dataset` as an argument to `DataLoader`. </br>\n",
        "This wraps and iterable over our dataset, and supports automatic **batching, sampling, shuffling and multiprocess data loading**."
      ],
      "metadata": {
        "id": "xtvrNJ4HtNOt"
      }
    },
    {
      "cell_type": "code",
      "source": [
        "# Here we define a batch size of 64, i.e. each element\n",
        "# in the dataloader iterable will return a batch of 64 features and labels.\n",
        "batch_size = 64\n",
        "\n",
        "# Create data loaders.\n",
        "train_dataloader = DataLoader(training_data, batch_size=batch_size)\n",
        "test_dataloader = DataLoader(test_data, batch_size=batch_size)\n",
        "\n",
        "for X, y in test_dataloader:\n",
        "    print(f\"Shape of X [N, C, H, W]: {X.shape}\")\n",
        "    print(f\"Shape of y: {y.shape} {y.dtype}\")\n",
        "    break"
      ],
      "metadata": {
        "colab": {
          "base_uri": "https://localhost:8080/"
        },
        "id": "ifkt86T_uNKo",
        "outputId": "33c99851-9001-4ac3-a63c-a3ec6803a046"
      },
      "execution_count": 4,
      "outputs": [
        {
          "output_type": "stream",
          "name": "stdout",
          "text": [
            "Shape of X [N, C, H, W]: torch.Size([64, 1, 28, 28])\n",
            "Shape of y: torch.Size([64]) torch.int64\n"
          ]
        }
      ]
    },
    {
      "cell_type": "markdown",
      "source": [
        "# Creating Models\n",
        "To define a neural network in PyTorch, we create a class that inherits from `nn.Module`. </br>\n",
        "\n",
        "We define the layers of the network in the `__init__` function and specify how data will pass through the network in the `forward` function.\n",
        "</br>\n",
        "To accelerate operations in the neural network, we move it to the GPU or MPS if available.\n"
      ],
      "metadata": {
        "id": "rZnZgqksw8Gi"
      }
    },
    {
      "cell_type": "code",
      "source": [
        "# Get cpu, gpu or mps device for training.\n",
        "device = (\n",
        "    \"cuda\"\n",
        "    if torch.cuda.is_available()\n",
        "    else \"mps\"\n",
        "    if torch.backends.mps.is_available()\n",
        "    else \"cpu\"\n",
        ")\n",
        "print(f\"Using {device} device\")\n",
        "\n",
        "# Define model\n",
        "class NeuralNetwork(nn.Module):\n",
        "    def __init__(self):\n",
        "        super().__init__()\n",
        "        self.flatten = nn.Flatten()\n",
        "        self.linear_relu_stack = nn.Sequential(\n",
        "            nn.Linear(28*28, 512),\n",
        "            nn.ReLU(),\n",
        "            nn.Linear(512, 512),\n",
        "            nn.ReLU(),\n",
        "            nn.Linear(512, 10)\n",
        "        )\n",
        "\n",
        "    def forward(self, x):\n",
        "        x = self.flatten(x)\n",
        "        logits = self.linear_relu_stack(x)\n",
        "        return logits\n",
        "\n",
        "model = NeuralNetwork().to(device)\n",
        "print(model)"
      ],
      "metadata": {
        "colab": {
          "base_uri": "https://localhost:8080/"
        },
        "id": "dTfnO0J9475p",
        "outputId": "ed4c5cfb-b37a-4589-df65-925f1d877f84"
      },
      "execution_count": 5,
      "outputs": [
        {
          "output_type": "stream",
          "name": "stdout",
          "text": [
            "Using cpu device\n",
            "NeuralNetwork(\n",
            "  (flatten): Flatten(start_dim=1, end_dim=-1)\n",
            "  (linear_relu_stack): Sequential(\n",
            "    (0): Linear(in_features=784, out_features=512, bias=True)\n",
            "    (1): ReLU()\n",
            "    (2): Linear(in_features=512, out_features=512, bias=True)\n",
            "    (3): ReLU()\n",
            "    (4): Linear(in_features=512, out_features=10, bias=True)\n",
            "  )\n",
            ")\n"
          ]
        }
      ]
    },
    {
      "cell_type": "markdown",
      "source": [
        "# Optimizing the Model Parameters\n",
        "\n",
        "To train a model, we need a **loss function** and an **optimizer**."
      ],
      "metadata": {
        "id": "WNVOn9dk7fVg"
      }
    },
    {
      "cell_type": "code",
      "source": [
        "loss_fn = nn.CrossEntropyLoss()\n",
        "optimizer = torch.optim.SGD(model.parameters(), lr=1e-3)\n"
      ],
      "metadata": {
        "id": "HSlSu76h8G_j"
      },
      "execution_count": 6,
      "outputs": []
    },
    {
      "cell_type": "markdown",
      "source": [
        "In a single training loop, the model makes predictions on the training dataset(fed to it in batches), and backpropagated the prediction error to adjust the model's parameters.\n",
        "\n"
      ],
      "metadata": {
        "id": "Fq3Z2d389m6U"
      }
    },
    {
      "cell_type": "code",
      "source": [
        "def train(dataloader, model, loss_fn, optimizer):\n",
        "    size = len(dataloader.dataset)\n",
        "    model.train()\n",
        "    for batch, (X, y) in enumerate(dataloader):\n",
        "        X, y = X.to(device), y.to(device)\n",
        "\n",
        "        # Compute prediction error\n",
        "        pred = model(X)\n",
        "        loss = loss_fn(pred, y)\n",
        "\n",
        "        # Backpropagation\n",
        "        loss.backward()\n",
        "        optimizer.step()\n",
        "        optimizer.zero_grad()\n",
        "\n",
        "        if batch % 100 == 0:\n",
        "            loss, current = loss.item(), (batch + 1) * len(X)\n",
        "            print(f\"loss: {loss:>7f} [{current:>5d}/{size:>5d}]\")\n",
        "\n",
        "\n"
      ],
      "metadata": {
        "id": "PojT8swn-au2"
      },
      "execution_count": 7,
      "outputs": []
    },
    {
      "cell_type": "markdown",
      "source": [
        "We also check the model's performance against the test dataset to ensure it is learning."
      ],
      "metadata": {
        "id": "Hk5_YwEulkuY"
      }
    },
    {
      "cell_type": "code",
      "source": [
        "def test(dataloader, model, loss_fn):\n",
        "    size = len(dataloader.dataset)\n",
        "    num_batches = len(dataloader)\n",
        "    model.eval()\n",
        "    test_loss, correct = 0, 0\n",
        "    with torch.no_grad():\n",
        "        for X, y in dataloader:\n",
        "            X, y = X.to(device), y.to(device)\n",
        "            pred = model(X)\n",
        "            test_loss += loss_fn(pred, y).item()\n",
        "            correct += (pred.argmax(1) == y).type(torch.float).sum().item()\n",
        "    test_loss /= num_batches\n",
        "    correct /= size\n",
        "    print(f\"Test Error: \\n Accuracy: {(100*correct):>0.1f}%, Avg loss: {test_loss:>8f} \\n\")"
      ],
      "metadata": {
        "id": "d7sg7v2FltE3"
      },
      "execution_count": 8,
      "outputs": []
    },
    {
      "cell_type": "markdown",
      "source": [
        "The training process is conducted over several iterations (epochs). During each epoch, the model learns parameters to make better predictions."
      ],
      "metadata": {
        "id": "0V39IjnQoYu-"
      }
    },
    {
      "cell_type": "code",
      "source": [
        "epochs = 5\n",
        "for t in range(epochs):\n",
        "    print(f\"Epoch {t+1}\\n--------------------------------------\")\n",
        "    train(train_dataloader, model, loss_fn, optimizer)\n",
        "    test(test_dataloader, model, loss_fn)\n",
        "print(\"Done!\")"
      ],
      "metadata": {
        "colab": {
          "base_uri": "https://localhost:8080/"
        },
        "id": "kUmtZvq4o0_K",
        "outputId": "0246cbe6-f518-4514-e289-c26a093ca954"
      },
      "execution_count": 9,
      "outputs": [
        {
          "output_type": "stream",
          "name": "stdout",
          "text": [
            "Epoch 1\n",
            "--------------------------------------\n",
            "loss: 2.306051 [   64/60000]\n",
            "loss: 2.299984 [ 6464/60000]\n",
            "loss: 2.277940 [12864/60000]\n",
            "loss: 2.263947 [19264/60000]\n",
            "loss: 2.251173 [25664/60000]\n",
            "loss: 2.202307 [32064/60000]\n",
            "loss: 2.216742 [38464/60000]\n",
            "loss: 2.178794 [44864/60000]\n",
            "loss: 2.180527 [51264/60000]\n",
            "loss: 2.136618 [57664/60000]\n",
            "Test Error: \n",
            " Accuracy: 41.7%, Avg loss: 2.141427 \n",
            "\n",
            "Epoch 2\n",
            "--------------------------------------\n",
            "loss: 2.152002 [   64/60000]\n",
            "loss: 2.145747 [ 6464/60000]\n",
            "loss: 2.086812 [12864/60000]\n",
            "loss: 2.096680 [19264/60000]\n",
            "loss: 2.042767 [25664/60000]\n",
            "loss: 1.970874 [32064/60000]\n",
            "loss: 2.001888 [38464/60000]\n",
            "loss: 1.918114 [44864/60000]\n",
            "loss: 1.921557 [51264/60000]\n",
            "loss: 1.843231 [57664/60000]\n",
            "Test Error: \n",
            " Accuracy: 53.2%, Avg loss: 1.849501 \n",
            "\n",
            "Epoch 3\n",
            "--------------------------------------\n",
            "loss: 1.880788 [   64/60000]\n",
            "loss: 1.853776 [ 6464/60000]\n",
            "loss: 1.740224 [12864/60000]\n",
            "loss: 1.774919 [19264/60000]\n",
            "loss: 1.663085 [25664/60000]\n",
            "loss: 1.613996 [32064/60000]\n",
            "loss: 1.630826 [38464/60000]\n",
            "loss: 1.536736 [44864/60000]\n",
            "loss: 1.564810 [51264/60000]\n",
            "loss: 1.456637 [57664/60000]\n",
            "Test Error: \n",
            " Accuracy: 60.3%, Avg loss: 1.483881 \n",
            "\n",
            "Epoch 4\n",
            "--------------------------------------\n",
            "loss: 1.547189 [   64/60000]\n",
            "loss: 1.518059 [ 6464/60000]\n",
            "loss: 1.379361 [12864/60000]\n",
            "loss: 1.446432 [19264/60000]\n",
            "loss: 1.325925 [25664/60000]\n",
            "loss: 1.322689 [32064/60000]\n",
            "loss: 1.333610 [38464/60000]\n",
            "loss: 1.262254 [44864/60000]\n",
            "loss: 1.304868 [51264/60000]\n",
            "loss: 1.204698 [57664/60000]\n",
            "Test Error: \n",
            " Accuracy: 63.0%, Avg loss: 1.233958 \n",
            "\n",
            "Epoch 5\n",
            "--------------------------------------\n",
            "loss: 1.307613 [   64/60000]\n",
            "loss: 1.289973 [ 6464/60000]\n",
            "loss: 1.137894 [12864/60000]\n",
            "loss: 1.239395 [19264/60000]\n",
            "loss: 1.108563 [25664/60000]\n",
            "loss: 1.134638 [32064/60000]\n",
            "loss: 1.155641 [38464/60000]\n",
            "loss: 1.093312 [44864/60000]\n",
            "loss: 1.142905 [51264/60000]\n",
            "loss: 1.057710 [57664/60000]\n",
            "Test Error: \n",
            " Accuracy: 64.4%, Avg loss: 1.078118 \n",
            "\n",
            "Done!\n"
          ]
        }
      ]
    },
    {
      "cell_type": "markdown",
      "source": [
        "# Saving Models\n",
        "[Saving and loading Models](https://pytorch.org/tutorials/beginner/saving_loading_models.html?highlight=pth%20tar)\n",
        "\n",
        "A common way to save a model is to serialize the internal state dictionary (containing the model parameters).\n",
        "\n",
        "In PyTorch, the learnable parameters (i.e. weights and biases) of an torch.nn.Module model are contained in the model's parameters (accessed with `model.parameters()`).\n",
        "\n",
        "a state_dict is simply a python dictionary object that maps each layer to its parameter tensor"
      ],
      "metadata": {
        "id": "RLtSFj2RpJcu"
      }
    },
    {
      "cell_type": "code",
      "source": [
        "torch.save(model.state_dict(), \"model.pth\")\n",
        "print(\"Saved PyTorch Model State to model.pth\")"
      ],
      "metadata": {
        "colab": {
          "base_uri": "https://localhost:8080/"
        },
        "id": "2RPaoLpSrFl8",
        "outputId": "3bc1b624-9abb-4209-eb7e-c96fa6354e68"
      },
      "execution_count": 10,
      "outputs": [
        {
          "output_type": "stream",
          "name": "stdout",
          "text": [
            "Saved PyTorch Model State to model.pth\n"
          ]
        }
      ]
    },
    {
      "cell_type": "markdown",
      "source": [
        "# Loading Models\n",
        "\n",
        "The process for loading a model includes re-creating the model structure and loading the state dictionary"
      ],
      "metadata": {
        "id": "ISxEJT3dt1K0"
      }
    },
    {
      "cell_type": "code",
      "source": [
        "model = NeuralNetwork().to(device)\n",
        "model.load_state_dict(torch.load(\"model.pth\"))"
      ],
      "metadata": {
        "colab": {
          "base_uri": "https://localhost:8080/"
        },
        "id": "ATXo0YrSuYON",
        "outputId": "d9107ec9-3a7e-48de-9807-8687a2abbea6"
      },
      "execution_count": 11,
      "outputs": [
        {
          "output_type": "execute_result",
          "data": {
            "text/plain": [
              "<All keys matched successfully>"
            ]
          },
          "metadata": {},
          "execution_count": 11
        }
      ]
    },
    {
      "cell_type": "markdown",
      "source": [
        "We can now make predictions using this model"
      ],
      "metadata": {
        "id": "6mhK6gtMutKP"
      }
    },
    {
      "cell_type": "code",
      "source": [
        "classes = [\n",
        "    \"T-shirt/top\",\n",
        "    \"Trouser\",\n",
        "    \"Pullover\",\n",
        "    \"Dress\",\n",
        "    \"Coat\",\n",
        "    \"Sandal\",\n",
        "    \"Shirt\",\n",
        "    \"Sneaker\",\n",
        "    \"Bag\",\n",
        "    \"Ankle boot\",\n",
        "]\n",
        "\n",
        "model.eval()\n",
        "x, y = test_data[0][0], test_data[0][1]\n",
        "with torch.no_grad():\n",
        "    x = x.to(device)\n",
        "    pred = model(x)\n",
        "    predicted, actual = classes[pred[0].argmax(0)], classes[y]\n",
        "    print(f\"Predicted: '{predicted}', Actual: '{actual}'\")"
      ],
      "metadata": {
        "colab": {
          "base_uri": "https://localhost:8080/"
        },
        "id": "R-7ch2JZuzmb",
        "outputId": "19b3e9d9-bca0-42e1-87f9-f8c29d6ab127"
      },
      "execution_count": 16,
      "outputs": [
        {
          "output_type": "stream",
          "name": "stdout",
          "text": [
            "Predicted: 'Ankle boot', Actual: 'Ankle boot'\n"
          ]
        }
      ]
    },
    {
      "cell_type": "code",
      "source": [],
      "metadata": {
        "id": "zUUsgCm8vl0q"
      },
      "execution_count": null,
      "outputs": []
    }
  ]
}